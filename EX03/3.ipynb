{
 "cells": [
  {
   "cell_type": "markdown",
   "id": "e8948057",
   "metadata": {},
   "source": [
    "I use numpy sort function  , I create a random numpy array by randint function then sort it each time using one sort algorithm and get run time of each algorithm , as you see quick sort has least runtime and heap sort has longest runtime"
   ]
  },
  {
   "cell_type": "code",
   "execution_count": 21,
   "id": "ac7ad97a",
   "metadata": {},
   "outputs": [],
   "source": [
    "import numpy as np\n",
    "import time"
   ]
  },
  {
   "cell_type": "markdown",
   "id": "90b4b8f0",
   "metadata": {},
   "source": [
    "### Quick sort"
   ]
  },
  {
   "cell_type": "code",
   "execution_count": 35,
   "id": "e8d1e0fd",
   "metadata": {},
   "outputs": [
    {
     "name": "stdout",
     "output_type": "stream",
     "text": [
      "array is : [94 81 39 ...  8  3 20]\n",
      "\n",
      "array after Quick sort is: [ 0  0  0 ... 99 99 99] \n",
      "runtime is: 3.038835287094116\n"
     ]
    }
   ],
   "source": [
    "arr = np.random.randint(100, size=100000000)\n",
    "print(\"array is :\",arr)\n",
    "start=time.time()\n",
    "arr1=np.sort(arr,kind='quicksort')\n",
    "end=time.time()\n",
    "print(\"\\narray after Quick sort is:\",arr1,\"\\nruntime is:\",end - start)"
   ]
  },
  {
   "cell_type": "markdown",
   "id": "abc271a2",
   "metadata": {},
   "source": [
    "### Heap sort"
   ]
  },
  {
   "cell_type": "code",
   "execution_count": 36,
   "id": "f7612314",
   "metadata": {},
   "outputs": [
    {
     "name": "stdout",
     "output_type": "stream",
     "text": [
      "array after Heap sort is: [ 0  0  0 ... 99 99 99] \n",
      "runtime is: 7.326256036758423\n"
     ]
    }
   ],
   "source": [
    "start=time.time()\n",
    "arr1=np.sort(arr,kind='heapsort')\n",
    "end=time.time()\n",
    "print(\"array after Heap sort is:\",arr1,\"\\nruntime is:\",end - start)"
   ]
  },
  {
   "cell_type": "markdown",
   "id": "1a91e30b",
   "metadata": {},
   "source": [
    "### Merge sort"
   ]
  },
  {
   "cell_type": "code",
   "execution_count": 37,
   "id": "8f7760c9",
   "metadata": {},
   "outputs": [
    {
     "name": "stdout",
     "output_type": "stream",
     "text": [
      "array after Merge sort is: [ 0  0  0 ... 99 99 99] \n",
      "runtime is: 6.765167713165283\n"
     ]
    }
   ],
   "source": [
    "start=time.time()\n",
    "arr1=np.sort(arr,kind='mergesort')\n",
    "end=time.time()\n",
    "print(\"array after Merge sort is:\",arr1,\"\\nruntime is:\",end - start)"
   ]
  },
  {
   "cell_type": "code",
   "execution_count": null,
   "id": "5bf01826",
   "metadata": {},
   "outputs": [],
   "source": []
  }
 ],
 "metadata": {
  "kernelspec": {
   "display_name": "Python 3 (ipykernel)",
   "language": "python",
   "name": "python3"
  },
  "language_info": {
   "codemirror_mode": {
    "name": "ipython",
    "version": 3
   },
   "file_extension": ".py",
   "mimetype": "text/x-python",
   "name": "python",
   "nbconvert_exporter": "python",
   "pygments_lexer": "ipython3",
   "version": "3.9.12"
  }
 },
 "nbformat": 4,
 "nbformat_minor": 5
}
