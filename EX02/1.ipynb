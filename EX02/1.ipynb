{
 "cells": [
  {
   "cell_type": "code",
   "execution_count": 1,
   "metadata": {},
   "outputs": [
    {
     "name": "stdout",
     "output_type": "stream",
     "text": [
      "please enter a number :10\n",
      "output array is: [77 95 71 70 99 79 89 22 69 70] \n",
      "max value is: 99\n",
      "Win\n"
     ]
    }
   ],
   "source": [
    "import numpy as np\n",
    "n=int(input(\"please enter a number :\"))\n",
    "arr = np.random.randint(100, size=n)\n",
    "maximum = np.max(arr)\n",
    "print(\"output array is:\",arr,\"\\nmax value is:\",maximum)\n",
    "print(\"Win\" if maximum>70 else \"Fail\")"
   ]
  },
  {
   "cell_type": "code",
   "execution_count": null,
   "metadata": {},
   "outputs": [],
   "source": []
  }
 ],
 "metadata": {
  "kernelspec": {
   "display_name": "Python 3 (ipykernel)",
   "language": "python",
   "name": "python3"
  },
  "language_info": {
   "codemirror_mode": {
    "name": "ipython",
    "version": 3
   },
   "file_extension": ".py",
   "mimetype": "text/x-python",
   "name": "python",
   "nbconvert_exporter": "python",
   "pygments_lexer": "ipython3",
   "version": "3.9.12"
  }
 },
 "nbformat": 4,
 "nbformat_minor": 2
}
